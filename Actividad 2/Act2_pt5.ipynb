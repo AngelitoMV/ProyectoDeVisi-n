{
 "cells": [
  {
   "cell_type": "code",
   "execution_count": 1,
   "id": "72d098d1",
   "metadata": {},
   "outputs": [],
   "source": [
    "import cv2\n",
    "\n",
    "cam_port = 0\n",
    "cam = cv2.VideoCapture(cam_port)\n",
    "\n",
    "while True:\n",
    "\n",
    "    result, frame = cam.read()\n",
    "\n",
    "    if result: \n",
    "\n",
    "        # Convertimos cada cuadro a escala de grises\n",
    "        gris = cv2.cvtColor(frame, cv2.COLOR_BGR2GRAY)\n",
    "\n",
    "        # Deteccion de bordes Canny en cada cuadro \n",
    "        edges = cv2.Canny(gris, 100, 200)\n",
    "\n",
    "        cv2.imshow(\"Presiona 'q' para salir\", edges)\n",
    "\n",
    "        if cv2.waitKey(1) & 0xFF == ord('q'):\n",
    "            break\n",
    "\n",
    "    else:\n",
    "        print(\"No image detected\")\n",
    "        break\n",
    "\n",
    "cam.release()\n",
    "cv2.destroyAllWindows()"
   ]
  }
 ],
 "metadata": {
  "kernelspec": {
   "display_name": "Python 3",
   "language": "python",
   "name": "python3"
  },
  "language_info": {
   "codemirror_mode": {
    "name": "ipython",
    "version": 3
   },
   "file_extension": ".py",
   "mimetype": "text/x-python",
   "name": "python",
   "nbconvert_exporter": "python",
   "pygments_lexer": "ipython3",
   "version": "3.13.7"
  }
 },
 "nbformat": 4,
 "nbformat_minor": 5
}
